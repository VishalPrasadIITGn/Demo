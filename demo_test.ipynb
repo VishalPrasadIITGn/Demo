{
 "cells": [
  {
   "cell_type": "code",
   "execution_count": 1,
   "metadata": {},
   "outputs": [],
   "source": [
    "import ipywidgets as widgets\n",
    "from ipywidgets import HBox, VBox\n",
    "import numpy as np\n",
    "import matplotlib.pyplot as plt\n",
    "from IPython.display import display\n",
    "%matplotlib inline"
   ]
  },
  {
   "cell_type": "code",
   "execution_count": 2,
   "metadata": {},
   "outputs": [
    {
     "data": {
      "application/vnd.jupyter.widget-view+json": {
       "model_id": "8a46235a655a4648b5fc651ef6cb6d56",
       "version_major": 2,
       "version_minor": 0
      },
      "text/plain": [
       "interactive(children=(IntSlider(value=5, description='x', max=15, min=-5), Output()), _dom_classes=('widget-in…"
      ]
     },
     "metadata": {},
     "output_type": "display_data"
    }
   ],
   "source": [
    "@widgets.interact\n",
    "def f(x=5):\n",
    "    print(x)"
   ]
  },
  {
   "cell_type": "code",
   "execution_count": 7,
   "metadata": {},
   "outputs": [
    {
     "data": {
      "application/vnd.jupyter.widget-view+json": {
       "model_id": "c1fa4a04fab34412a0ffafa17908e728",
       "version_major": 2,
       "version_minor": 0
      },
      "text/plain": [
       "interactive(children=(IntSlider(value=5, description='x', max=5), Output()), _dom_classes=('widget-interact',)…"
      ]
     },
     "metadata": {},
     "output_type": "display_data"
    }
   ],
   "source": [
    "@widgets.interact(x=(0, 5))\n",
    "def f(x=5):\n",
    "    print(x*x)"
   ]
  },
  {
   "cell_type": "code",
   "execution_count": 4,
   "metadata": {},
   "outputs": [
    {
     "data": {
      "application/vnd.jupyter.widget-view+json": {
       "model_id": "c0af5f03061b4b749bc3293130f959f2",
       "version_major": 2,
       "version_minor": 0
      },
      "text/plain": [
       "interactive(children=(FloatSlider(value=1.0, description='freq', max=3.0, min=-1.0), Dropdown(description='col…"
      ]
     },
     "metadata": {},
     "output_type": "display_data"
    }
   ],
   "source": [
    "@widgets.interact_manual(\n",
    "    color=['blue', 'red', 'green'], lw=(1., 10.))\n",
    "def plot(freq=1., color='blue', lw=2, grid=True):\n",
    "    t = np.linspace(-1., +1., 1000)\n",
    "    fig, ax = plt.subplots(1, 1, figsize=(8, 6))\n",
    "    ax.plot(t, np.sin(2 * np.pi * freq * t),\n",
    "            lw=lw, color=color)\n",
    "    ax.grid(grid)"
   ]
  },
  {
   "cell_type": "code",
   "execution_count": null,
   "metadata": {},
   "outputs": [],
   "source": []
  }
 ],
 "metadata": {
  "kernelspec": {
   "display_name": "Python 3",
   "language": "python",
   "name": "python3"
  },
  "language_info": {
   "codemirror_mode": {
    "name": "ipython",
    "version": 3
   },
   "file_extension": ".py",
   "mimetype": "text/x-python",
   "name": "python",
   "nbconvert_exporter": "python",
   "pygments_lexer": "ipython3",
   "version": "3.7.1"
  },
  "widgets": {
   "application/vnd.jupyter.widget-state+json": {
    "state": {
     "0220f5b1f61d4cb5bfdf8aa5e4bfd580": {
      "model_module": "@jupyter-widgets/base",
      "model_module_version": "1.1.0",
      "model_name": "LayoutModel",
      "state": {}
     },
     "0eb2ce997b194237b6281bf16ac68012": {
      "model_module": "@jupyter-widgets/base",
      "model_module_version": "1.1.0",
      "model_name": "LayoutModel",
      "state": {}
     },
     "1120a1d99e5148efafee7f076188521a": {
      "model_module": "@jupyter-widgets/controls",
      "model_module_version": "1.4.0",
      "model_name": "ButtonStyleModel",
      "state": {}
     },
     "14a853a2ce9b462aa84d60b671f7a64a": {
      "model_module": "@jupyter-widgets/controls",
      "model_module_version": "1.4.0",
      "model_name": "FloatSliderModel",
      "state": {
       "description": "freq",
       "layout": "IPY_MODEL_b1ddcf3d8c03499b81c02b7a762acb08",
       "max": 3,
       "min": -1,
       "step": 0.1,
       "style": "IPY_MODEL_aba48e4fffe94dbd9a534b0ed5c56374",
       "value": 0.7
      }
     },
     "18e060f914234839b1e6e32bb15956aa": {
      "model_module": "@jupyter-widgets/controls",
      "model_module_version": "1.4.0",
      "model_name": "IntSliderModel",
      "state": {
       "description": "x",
       "layout": "IPY_MODEL_bd4515ef2e344781974b879cfa03f495",
       "max": 15,
       "min": -5,
       "style": "IPY_MODEL_52f9e2f303194819bac031e79c3540e6",
       "value": 5
      }
     },
     "1aca7d9c5831498788d00a5d8a79e1ca": {
      "model_module": "@jupyter-widgets/controls",
      "model_module_version": "1.4.0",
      "model_name": "SliderStyleModel",
      "state": {
       "description_width": ""
      }
     },
     "1cb817e3838d426798e1a663a3e4b017": {
      "model_module": "@jupyter-widgets/controls",
      "model_module_version": "1.4.0",
      "model_name": "VBoxModel",
      "state": {
       "_dom_classes": [
        "widget-interact"
       ],
       "children": [
        "IPY_MODEL_3147b6c697654288ab8c18c0f16009ff",
        "IPY_MODEL_7c417bf86d5b4846b8b2fd7361f1496a"
       ],
       "layout": "IPY_MODEL_6a929980a52448fa9e29ac36939a6325"
      }
     },
     "23068f1b9a55473595e90d6ec83c691d": {
      "model_module": "@jupyter-widgets/controls",
      "model_module_version": "1.4.0",
      "model_name": "DescriptionStyleModel",
      "state": {
       "description_width": ""
      }
     },
     "2b6979cb0b914e72a41f129aac089581": {
      "model_module": "@jupyter-widgets/base",
      "model_module_version": "1.1.0",
      "model_name": "LayoutModel",
      "state": {}
     },
     "2e09e0fb1daa44ed96afe230ec335de8": {
      "model_module": "@jupyter-widgets/output",
      "model_module_version": "1.0.0",
      "model_name": "OutputModel",
      "state": {
       "layout": "IPY_MODEL_2b6979cb0b914e72a41f129aac089581",
       "outputs": [
        {
         "name": "stdout",
         "output_type": "stream",
         "text": "5\n"
        }
       ]
      }
     },
     "3147b6c697654288ab8c18c0f16009ff": {
      "model_module": "@jupyter-widgets/controls",
      "model_module_version": "1.4.0",
      "model_name": "IntSliderModel",
      "state": {
       "description": "x",
       "layout": "IPY_MODEL_cd40f9713166436a9320f97e930011b6",
       "max": 5,
       "style": "IPY_MODEL_6c5c4ab0c0df4cb5aee6b35321c5f587",
       "value": 5
      }
     },
     "32ae75dcf9ba446a851601ce71f0080d": {
      "model_module": "@jupyter-widgets/controls",
      "model_module_version": "1.4.0",
      "model_name": "DescriptionStyleModel",
      "state": {
       "description_width": ""
      }
     },
     "5170404b2a424f0988ed6981e2182d73": {
      "model_module": "@jupyter-widgets/base",
      "model_module_version": "1.1.0",
      "model_name": "LayoutModel",
      "state": {}
     },
     "52f9e2f303194819bac031e79c3540e6": {
      "model_module": "@jupyter-widgets/controls",
      "model_module_version": "1.4.0",
      "model_name": "SliderStyleModel",
      "state": {
       "description_width": ""
      }
     },
     "6313af6709fd4aae8be09a787084b86a": {
      "model_module": "@jupyter-widgets/controls",
      "model_module_version": "1.4.0",
      "model_name": "CheckboxModel",
      "state": {
       "description": "grid",
       "disabled": false,
       "layout": "IPY_MODEL_da4068a9554f4be7b62ff8534716d81a",
       "style": "IPY_MODEL_32ae75dcf9ba446a851601ce71f0080d",
       "value": true
      }
     },
     "6a929980a52448fa9e29ac36939a6325": {
      "model_module": "@jupyter-widgets/base",
      "model_module_version": "1.1.0",
      "model_name": "LayoutModel",
      "state": {}
     },
     "6b91d32e16854ee8a086ddca894d2bf4": {
      "model_module": "@jupyter-widgets/output",
      "model_module_version": "1.0.0",
      "model_name": "OutputModel",
      "state": {
       "layout": "IPY_MODEL_c9110c6dda6942a1bdd280f3605425f6",
       "outputs": [
        {
         "data": {
          "image/png": "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\n",
          "text/plain": "<Figure size 576x432 with 1 Axes>"
         },
         "metadata": {
          "needs_background": "light"
         },
         "output_type": "display_data"
        }
       ]
      }
     },
     "6c5c4ab0c0df4cb5aee6b35321c5f587": {
      "model_module": "@jupyter-widgets/controls",
      "model_module_version": "1.4.0",
      "model_name": "SliderStyleModel",
      "state": {
       "description_width": ""
      }
     },
     "6ffe0402f5084356837a064b0f4b1fbe": {
      "model_module": "@jupyter-widgets/controls",
      "model_module_version": "1.4.0",
      "model_name": "DropdownModel",
      "state": {
       "_options_labels": [
        "blue",
        "red",
        "green"
       ],
       "description": "color",
       "index": 0,
       "layout": "IPY_MODEL_5170404b2a424f0988ed6981e2182d73",
       "style": "IPY_MODEL_23068f1b9a55473595e90d6ec83c691d"
      }
     },
     "7c417bf86d5b4846b8b2fd7361f1496a": {
      "model_module": "@jupyter-widgets/output",
      "model_module_version": "1.0.0",
      "model_name": "OutputModel",
      "state": {
       "layout": "IPY_MODEL_7e50aa439bce473c85dc363bd25ce43c",
       "outputs": [
        {
         "name": "stdout",
         "output_type": "stream",
         "text": "5\n"
        }
       ]
      }
     },
     "7e50aa439bce473c85dc363bd25ce43c": {
      "model_module": "@jupyter-widgets/base",
      "model_module_version": "1.1.0",
      "model_name": "LayoutModel",
      "state": {}
     },
     "89830877cdd14e9bac10db8a8fccff50": {
      "model_module": "@jupyter-widgets/base",
      "model_module_version": "1.1.0",
      "model_name": "LayoutModel",
      "state": {}
     },
     "8a46235a655a4648b5fc651ef6cb6d56": {
      "model_module": "@jupyter-widgets/controls",
      "model_module_version": "1.4.0",
      "model_name": "VBoxModel",
      "state": {
       "_dom_classes": [
        "widget-interact"
       ],
       "children": [
        "IPY_MODEL_18e060f914234839b1e6e32bb15956aa",
        "IPY_MODEL_2e09e0fb1daa44ed96afe230ec335de8"
       ],
       "layout": "IPY_MODEL_0eb2ce997b194237b6281bf16ac68012"
      }
     },
     "a0505859cd3249869ce3aee6358b105d": {
      "model_module": "@jupyter-widgets/base",
      "model_module_version": "1.1.0",
      "model_name": "LayoutModel",
      "state": {}
     },
     "aba48e4fffe94dbd9a534b0ed5c56374": {
      "model_module": "@jupyter-widgets/controls",
      "model_module_version": "1.4.0",
      "model_name": "SliderStyleModel",
      "state": {
       "description_width": ""
      }
     },
     "b05f800f39814b2f8abcf7ae9a693720": {
      "model_module": "@jupyter-widgets/controls",
      "model_module_version": "1.4.0",
      "model_name": "ButtonModel",
      "state": {
       "description": "Run Interact",
       "layout": "IPY_MODEL_a0505859cd3249869ce3aee6358b105d",
       "style": "IPY_MODEL_1120a1d99e5148efafee7f076188521a"
      }
     },
     "b0839b71ce9a47e7ac53b3fe117d0abb": {
      "model_module": "@jupyter-widgets/base",
      "model_module_version": "1.1.0",
      "model_name": "LayoutModel",
      "state": {}
     },
     "b1ddcf3d8c03499b81c02b7a762acb08": {
      "model_module": "@jupyter-widgets/base",
      "model_module_version": "1.1.0",
      "model_name": "LayoutModel",
      "state": {}
     },
     "bd4515ef2e344781974b879cfa03f495": {
      "model_module": "@jupyter-widgets/base",
      "model_module_version": "1.1.0",
      "model_name": "LayoutModel",
      "state": {}
     },
     "c0af5f03061b4b749bc3293130f959f2": {
      "model_module": "@jupyter-widgets/controls",
      "model_module_version": "1.4.0",
      "model_name": "VBoxModel",
      "state": {
       "_dom_classes": [
        "widget-interact"
       ],
       "children": [
        "IPY_MODEL_14a853a2ce9b462aa84d60b671f7a64a",
        "IPY_MODEL_6ffe0402f5084356837a064b0f4b1fbe",
        "IPY_MODEL_f671c8608ded403fb2e00948c1191d41",
        "IPY_MODEL_6313af6709fd4aae8be09a787084b86a",
        "IPY_MODEL_b05f800f39814b2f8abcf7ae9a693720",
        "IPY_MODEL_6b91d32e16854ee8a086ddca894d2bf4"
       ],
       "layout": "IPY_MODEL_89830877cdd14e9bac10db8a8fccff50"
      }
     },
     "c1fa4a04fab34412a0ffafa17908e728": {
      "model_module": "@jupyter-widgets/controls",
      "model_module_version": "1.4.0",
      "model_name": "VBoxModel",
      "state": {
       "_dom_classes": [
        "widget-interact"
       ],
       "children": [
        "IPY_MODEL_eb29cd5b0a244b158849d90041fa049a",
        "IPY_MODEL_fd31b08afbb940e4b14ad8cab1cf06bf"
       ],
       "layout": "IPY_MODEL_b0839b71ce9a47e7ac53b3fe117d0abb"
      }
     },
     "c33f819dad23420b9775fcb227dc3e83": {
      "model_module": "@jupyter-widgets/controls",
      "model_module_version": "1.4.0",
      "model_name": "SliderStyleModel",
      "state": {
       "description_width": ""
      }
     },
     "c9110c6dda6942a1bdd280f3605425f6": {
      "model_module": "@jupyter-widgets/base",
      "model_module_version": "1.1.0",
      "model_name": "LayoutModel",
      "state": {}
     },
     "cd40f9713166436a9320f97e930011b6": {
      "model_module": "@jupyter-widgets/base",
      "model_module_version": "1.1.0",
      "model_name": "LayoutModel",
      "state": {}
     },
     "da4068a9554f4be7b62ff8534716d81a": {
      "model_module": "@jupyter-widgets/base",
      "model_module_version": "1.1.0",
      "model_name": "LayoutModel",
      "state": {}
     },
     "dcf26e830e43406a93b368493d67b084": {
      "model_module": "@jupyter-widgets/base",
      "model_module_version": "1.1.0",
      "model_name": "LayoutModel",
      "state": {}
     },
     "eb29cd5b0a244b158849d90041fa049a": {
      "model_module": "@jupyter-widgets/controls",
      "model_module_version": "1.4.0",
      "model_name": "IntSliderModel",
      "state": {
       "description": "x",
       "layout": "IPY_MODEL_0220f5b1f61d4cb5bfdf8aa5e4bfd580",
       "max": 5,
       "style": "IPY_MODEL_1aca7d9c5831498788d00a5d8a79e1ca",
       "value": 3
      }
     },
     "ec9284ca149b45b282ebe262b0c1015d": {
      "model_module": "@jupyter-widgets/base",
      "model_module_version": "1.1.0",
      "model_name": "LayoutModel",
      "state": {}
     },
     "f671c8608ded403fb2e00948c1191d41": {
      "model_module": "@jupyter-widgets/controls",
      "model_module_version": "1.4.0",
      "model_name": "FloatSliderModel",
      "state": {
       "description": "lw",
       "layout": "IPY_MODEL_ec9284ca149b45b282ebe262b0c1015d",
       "max": 10,
       "min": 1,
       "step": 0.1,
       "style": "IPY_MODEL_c33f819dad23420b9775fcb227dc3e83",
       "value": 2
      }
     },
     "fd31b08afbb940e4b14ad8cab1cf06bf": {
      "model_module": "@jupyter-widgets/output",
      "model_module_version": "1.0.0",
      "model_name": "OutputModel",
      "state": {
       "layout": "IPY_MODEL_dcf26e830e43406a93b368493d67b084",
       "outputs": [
        {
         "name": "stdout",
         "output_type": "stream",
         "text": "9\n"
        }
       ]
      }
     }
    },
    "version_major": 2,
    "version_minor": 0
   }
  }
 },
 "nbformat": 4,
 "nbformat_minor": 2
}
